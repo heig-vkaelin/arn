{
 "cells": [
  {
   "cell_type": "markdown",
   "metadata": {
    "id": "HkLUJVa1bfNW"
   },
   "source": [
    "# Convolutional Neural Networks\n",
    "This notebook will guide you through the use of the `keras` package to train convolutional neural networks for handwritten digits classification. You are going to use the `mnist` dataset from LeCun et al. 1998."
   ]
  },
  {
   "cell_type": "markdown",
   "metadata": {
    "id": "SjQUQygFbfNb"
   },
   "source": [
    "## Loading the packages"
   ]
  },
  {
   "cell_type": "code",
   "execution_count": 1,
   "metadata": {
    "id": "h7O8MewabfNj"
   },
   "outputs": [
    {
     "name": "stdout",
     "output_type": "stream",
     "text": [
      "Requirement already satisfied: tensorflow in c:\\users\\jonathan\\miniconda3\\envs\\arn\\lib\\site-packages (2.8.0)\n",
      "Requirement already satisfied: numpy>=1.20 in c:\\users\\jonathan\\miniconda3\\envs\\arn\\lib\\site-packages (from tensorflow) (1.22.2)\n",
      "Requirement already satisfied: astunparse>=1.6.0 in c:\\users\\jonathan\\miniconda3\\envs\\arn\\lib\\site-packages (from tensorflow) (1.6.3)\n",
      "Requirement already satisfied: typing-extensions>=3.6.6 in c:\\users\\jonathan\\miniconda3\\envs\\arn\\lib\\site-packages (from tensorflow) (3.10.0.2)\n",
      "Requirement already satisfied: protobuf>=3.9.2 in c:\\users\\jonathan\\miniconda3\\envs\\arn\\lib\\site-packages (from tensorflow) (3.20.0)\n",
      "Requirement already satisfied: gast>=0.2.1 in c:\\users\\jonathan\\miniconda3\\envs\\arn\\lib\\site-packages (from tensorflow) (0.5.3)\n",
      "Requirement already satisfied: google-pasta>=0.1.1 in c:\\users\\jonathan\\miniconda3\\envs\\arn\\lib\\site-packages (from tensorflow) (0.2.0)\n",
      "Requirement already satisfied: flatbuffers>=1.12 in c:\\users\\jonathan\\miniconda3\\envs\\arn\\lib\\site-packages (from tensorflow) (2.0)\n",
      "Requirement already satisfied: termcolor>=1.1.0 in c:\\users\\jonathan\\miniconda3\\envs\\arn\\lib\\site-packages (from tensorflow) (1.1.0)\n",
      "Requirement already satisfied: six>=1.12.0 in c:\\users\\jonathan\\miniconda3\\envs\\arn\\lib\\site-packages (from tensorflow) (1.16.0)\n",
      "Requirement already satisfied: opt-einsum>=2.3.2 in c:\\users\\jonathan\\miniconda3\\envs\\arn\\lib\\site-packages (from tensorflow) (3.3.0)\n",
      "Requirement already satisfied: libclang>=9.0.1 in c:\\users\\jonathan\\miniconda3\\envs\\arn\\lib\\site-packages (from tensorflow) (13.0.0)\n",
      "Requirement already satisfied: tensorflow-io-gcs-filesystem>=0.23.1 in c:\\users\\jonathan\\miniconda3\\envs\\arn\\lib\\site-packages (from tensorflow) (0.24.0)\n",
      "Requirement already satisfied: keras<2.9,>=2.8.0rc0 in c:\\users\\jonathan\\miniconda3\\envs\\arn\\lib\\site-packages (from tensorflow) (2.8.0)\n",
      "Requirement already satisfied: tf-estimator-nightly==2.8.0.dev2021122109 in c:\\users\\jonathan\\miniconda3\\envs\\arn\\lib\\site-packages (from tensorflow) (2.8.0.dev2021122109)\n",
      "Requirement already satisfied: keras-preprocessing>=1.1.1 in c:\\users\\jonathan\\miniconda3\\envs\\arn\\lib\\site-packages (from tensorflow) (1.1.2)\n",
      "Requirement already satisfied: wrapt>=1.11.0 in c:\\users\\jonathan\\miniconda3\\envs\\arn\\lib\\site-packages (from tensorflow) (1.14.0)\n",
      "Requirement already satisfied: tensorboard<2.9,>=2.8 in c:\\users\\jonathan\\miniconda3\\envs\\arn\\lib\\site-packages (from tensorflow) (2.8.0)\n",
      "Requirement already satisfied: setuptools in c:\\users\\jonathan\\miniconda3\\envs\\arn\\lib\\site-packages (from tensorflow) (58.0.4)\n",
      "Requirement already satisfied: absl-py>=0.4.0 in c:\\users\\jonathan\\miniconda3\\envs\\arn\\lib\\site-packages (from tensorflow) (1.0.0)\n",
      "Requirement already satisfied: h5py>=2.9.0 in c:\\users\\jonathan\\miniconda3\\envs\\arn\\lib\\site-packages (from tensorflow) (3.6.0)\n",
      "Requirement already satisfied: grpcio<2.0,>=1.24.3 in c:\\users\\jonathan\\miniconda3\\envs\\arn\\lib\\site-packages (from tensorflow) (1.44.0)\n",
      "Requirement already satisfied: wheel<1.0,>=0.23.0 in c:\\users\\jonathan\\miniconda3\\envs\\arn\\lib\\site-packages (from astunparse>=1.6.0->tensorflow) (0.37.1)\n",
      "Requirement already satisfied: requests<3,>=2.21.0 in c:\\users\\jonathan\\miniconda3\\envs\\arn\\lib\\site-packages (from tensorboard<2.9,>=2.8->tensorflow) (2.27.1)\n",
      "Requirement already satisfied: google-auth-oauthlib<0.5,>=0.4.1 in c:\\users\\jonathan\\miniconda3\\envs\\arn\\lib\\site-packages (from tensorboard<2.9,>=2.8->tensorflow) (0.4.6)\n",
      "Requirement already satisfied: tensorboard-plugin-wit>=1.6.0 in c:\\users\\jonathan\\miniconda3\\envs\\arn\\lib\\site-packages (from tensorboard<2.9,>=2.8->tensorflow) (1.8.1)\n",
      "Requirement already satisfied: markdown>=2.6.8 in c:\\users\\jonathan\\miniconda3\\envs\\arn\\lib\\site-packages (from tensorboard<2.9,>=2.8->tensorflow) (3.3.6)\n",
      "Requirement already satisfied: tensorboard-data-server<0.7.0,>=0.6.0 in c:\\users\\jonathan\\miniconda3\\envs\\arn\\lib\\site-packages (from tensorboard<2.9,>=2.8->tensorflow) (0.6.1)\n",
      "Requirement already satisfied: werkzeug>=0.11.15 in c:\\users\\jonathan\\miniconda3\\envs\\arn\\lib\\site-packages (from tensorboard<2.9,>=2.8->tensorflow) (2.1.1)\n",
      "Requirement already satisfied: google-auth<3,>=1.6.3 in c:\\users\\jonathan\\miniconda3\\envs\\arn\\lib\\site-packages (from tensorboard<2.9,>=2.8->tensorflow) (2.6.4)\n",
      "Requirement already satisfied: cachetools<6.0,>=2.0.0 in c:\\users\\jonathan\\miniconda3\\envs\\arn\\lib\\site-packages (from google-auth<3,>=1.6.3->tensorboard<2.9,>=2.8->tensorflow) (5.0.0)\n",
      "Requirement already satisfied: rsa<5,>=3.1.4 in c:\\users\\jonathan\\miniconda3\\envs\\arn\\lib\\site-packages (from google-auth<3,>=1.6.3->tensorboard<2.9,>=2.8->tensorflow) (4.8)\n",
      "Requirement already satisfied: pyasn1-modules>=0.2.1 in c:\\users\\jonathan\\miniconda3\\envs\\arn\\lib\\site-packages (from google-auth<3,>=1.6.3->tensorboard<2.9,>=2.8->tensorflow) (0.2.8)\n",
      "Requirement already satisfied: requests-oauthlib>=0.7.0 in c:\\users\\jonathan\\miniconda3\\envs\\arn\\lib\\site-packages (from google-auth-oauthlib<0.5,>=0.4.1->tensorboard<2.9,>=2.8->tensorflow) (1.3.1)\n",
      "Requirement already satisfied: importlib-metadata>=4.4 in c:\\users\\jonathan\\miniconda3\\envs\\arn\\lib\\site-packages (from markdown>=2.6.8->tensorboard<2.9,>=2.8->tensorflow) (4.8.2)\n",
      "Requirement already satisfied: zipp>=0.5 in c:\\users\\jonathan\\miniconda3\\envs\\arn\\lib\\site-packages (from importlib-metadata>=4.4->markdown>=2.6.8->tensorboard<2.9,>=2.8->tensorflow) (3.7.0)\n",
      "Requirement already satisfied: pyasn1<0.5.0,>=0.4.6 in c:\\users\\jonathan\\miniconda3\\envs\\arn\\lib\\site-packages (from pyasn1-modules>=0.2.1->google-auth<3,>=1.6.3->tensorboard<2.9,>=2.8->tensorflow) (0.4.8)\n",
      "Requirement already satisfied: urllib3<1.27,>=1.21.1 in c:\\users\\jonathan\\miniconda3\\envs\\arn\\lib\\site-packages (from requests<3,>=2.21.0->tensorboard<2.9,>=2.8->tensorflow) (1.26.9)\n",
      "Requirement already satisfied: idna<4,>=2.5 in c:\\users\\jonathan\\miniconda3\\envs\\arn\\lib\\site-packages (from requests<3,>=2.21.0->tensorboard<2.9,>=2.8->tensorflow) (3.3)\n",
      "Requirement already satisfied: certifi>=2017.4.17 in c:\\users\\jonathan\\miniconda3\\envs\\arn\\lib\\site-packages (from requests<3,>=2.21.0->tensorboard<2.9,>=2.8->tensorflow) (2021.10.8)\n",
      "Requirement already satisfied: charset-normalizer~=2.0.0 in c:\\users\\jonathan\\miniconda3\\envs\\arn\\lib\\site-packages (from requests<3,>=2.21.0->tensorboard<2.9,>=2.8->tensorflow) (2.0.12)\n",
      "Requirement already satisfied: oauthlib>=3.0.0 in c:\\users\\jonathan\\miniconda3\\envs\\arn\\lib\\site-packages (from requests-oauthlib>=0.7.0->google-auth-oauthlib<0.5,>=0.4.1->tensorboard<2.9,>=2.8->tensorflow) (3.2.0)\n",
      "Note: you may need to restart the kernel to use updated packages.\n",
      "Requirement already satisfied: keras in c:\\users\\jonathan\\miniconda3\\envs\\arn\\lib\\site-packages (2.8.0)\n",
      "Note: you may need to restart the kernel to use updated packages.\n"
     ]
    }
   ],
   "source": [
    "%pip install tensorflow --upgrade\n",
    "%pip install keras --upgrade\n",
    "\n",
    "import numpy as np\n",
    "from matplotlib import pyplot as pl\n",
    "\n",
    "from keras.datasets import mnist, fashion_mnist\n",
    "from keras.models import Model\n",
    "from keras.layers.core import Dense, Dropout, Flatten\n",
    "from tensorflow.keras.optimizers import RMSprop\n",
    "from keras.utils import np_utils\n",
    "from keras.layers.convolutional import Conv2D, MaxPooling2D\n",
    "from keras.layers import Input\n",
    "from sklearn import metrics as me\n",
    "from scipy import stats\n",
    "\n",
    "%matplotlib inline"
   ]
  },
  {
   "cell_type": "markdown",
   "metadata": {
    "id": "vbttXt8SbfOH"
   },
   "source": [
    "First, create some useful functions"
   ]
  },
  {
   "cell_type": "code",
   "execution_count": 2,
   "metadata": {
    "id": "jAR9jPgybfOO"
   },
   "outputs": [],
   "source": [
    "def build_grid_of_images(array):\n",
    "    assert len(array.shape) == 3\n",
    "    dim_0 = np.sqrt(array.shape[0])\n",
    "    assert dim_0.is_integer()\n",
    "    \n",
    "    temp_out = np.reshape(array, (dim_0, dim_0, array.shape[1], array.shape[2]))\n",
    "    temp_out = np.rollaxis(temp_out, 1, 3)\n",
    "    return np.reshape(temp_out, (dim_0*array.shape[1], dim_0*array.shape[2]))\n",
    "\n",
    "def plot_conv_layer_output(temp_out, title):\n",
    "    temp_to_plot = build_grid_of_images(temp_out)\n",
    "    pl.imshow(temp_to_plot, interpolation='nearest', cmap=pl.get_cmap('Greys'))\n",
    "    ax = pl.gca()\n",
    "    ax.set_xticks(np.arange(-0.5, temp_to_plot.shape[0]+0.5, temp_out.shape[1]))    \n",
    "    ax.set_yticks(np.arange(-0.5, temp_to_plot.shape[0]+0.5, temp_out.shape[2]))\n",
    "    pl.grid()\n",
    "    pl.tick_params(axis='both', which='both', bottom='off', top='off', left='off', right='off', labelbottom='off', labelleft='off')\n",
    "    pl.title(title)\n",
    "\n",
    "def plot_dense_layer_output(temp_out, title):\n",
    "    pl.bar(np.arange(temp_out.shape[1])-0.4, temp_out[0,:])\n",
    "    pl.xlim(-0.5, temp_out.shape[1])\n",
    "    pl.grid()\n",
    "    pl.title(title)"
   ]
  },
  {
   "cell_type": "markdown",
   "metadata": {
    "id": "3fVOW4jGbfOb"
   },
   "source": [
    "Load the `fashion_mnist` dataset and normalize in the range [0, 1]"
   ]
  },
  {
   "cell_type": "code",
   "execution_count": 3,
   "metadata": {
    "colab": {
     "base_uri": "https://localhost:8080/",
     "height": 85
    },
    "id": "2H2K3S4MbfOf",
    "outputId": "87306b90-6068-49ae-d1c2-5d5ea69927e2"
   },
   "outputs": [
    {
     "name": "stdout",
     "output_type": "stream",
     "text": [
      "Downloading data from https://storage.googleapis.com/tensorflow/tf-keras-datasets/train-labels-idx1-ubyte.gz\n",
      "32768/29515 [=================================] - 0s 0us/step\n",
      "40960/29515 [=========================================] - 0s 0us/step\n",
      "Downloading data from https://storage.googleapis.com/tensorflow/tf-keras-datasets/train-images-idx3-ubyte.gz\n",
      "26427392/26421880 [==============================] - 2s 0us/step\n",
      "26435584/26421880 [==============================] - 2s 0us/step\n",
      "Downloading data from https://storage.googleapis.com/tensorflow/tf-keras-datasets/t10k-labels-idx1-ubyte.gz\n",
      "16384/5148 [===============================================================================================] - 0s 0s/step\n",
      "Downloading data from https://storage.googleapis.com/tensorflow/tf-keras-datasets/t10k-images-idx3-ubyte.gz\n",
      "4423680/4422102 [==============================] - 1s 0us/step\n",
      "4431872/4422102 [==============================] - 1s 0us/step\n",
      "60000 train samples\n",
      "10000 test samples\n"
     ]
    }
   ],
   "source": [
    "# (X_train, y_train), (X_test, y_test) = mnist.load_data()\n",
    "(X_train, y_train), (X_test, y_test) = fashion_mnist.load_data()\n",
    "\n",
    "n_train, height, width = X_train.shape\n",
    "n_test, _, _ = X_test.shape\n",
    "\n",
    "X_train = X_train.reshape(n_train, height, width, 1).astype('float32')\n",
    "X_test = X_test.reshape(n_test, height, width, 1).astype('float32')\n",
    "\n",
    "X_train /= 255.0\n",
    "X_test /= 255.0\n",
    "\n",
    "n_classes = 10\n",
    "\n",
    "print(n_train, 'train samples')\n",
    "print(n_test, 'test samples')\n",
    "\n",
    "# convert class vectors to binary class matrices\n",
    "Y_train = np_utils.to_categorical(y_train, n_classes)\n",
    "Y_test = np_utils.to_categorical(y_test, n_classes)"
   ]
  },
  {
   "cell_type": "markdown",
   "metadata": {
    "id": "2B-WNiQUbfOq"
   },
   "source": [
    "Create the MNIST and show its architecture"
   ]
  },
  {
   "cell_type": "code",
   "execution_count": 4,
   "metadata": {
    "colab": {
     "base_uri": "https://localhost:8080/",
     "height": 493
    },
    "id": "yhOscSNPbfOt",
    "outputId": "6e1a0da0-e48f-4fd1-eb5c-dadacdad548a"
   },
   "outputs": [
    {
     "name": "stdout",
     "output_type": "stream",
     "text": [
      "Model: \"model\"\n",
      "_________________________________________________________________\n",
      " Layer (type)                Output Shape              Param #   \n",
      "=================================================================\n",
      " l0 (InputLayer)             [(None, 28, 28, 1)]       0         \n",
      "                                                                 \n",
      " l1 (Conv2D)                 (None, 28, 28, 9)         234       \n",
      "                                                                 \n",
      " l1_mp (MaxPooling2D)        (None, 14, 14, 9)         0         \n",
      "                                                                 \n",
      " l2 (Conv2D)                 (None, 14, 14, 9)         2034      \n",
      "                                                                 \n",
      " l2_mp (MaxPooling2D)        (None, 7, 7, 9)           0         \n",
      "                                                                 \n",
      " l3 (Conv2D)                 (None, 7, 7, 16)          1312      \n",
      "                                                                 \n",
      " l3_mp (MaxPooling2D)        (None, 3, 3, 16)          0         \n",
      "                                                                 \n",
      " flat (Flatten)              (None, 144)               0         \n",
      "                                                                 \n",
      " l4 (Dense)                  (None, 25)                3625      \n",
      "                                                                 \n",
      " l5 (Dense)                  (None, 10)                260       \n",
      "                                                                 \n",
      "=================================================================\n",
      "Total params: 7,465\n",
      "Trainable params: 7,465\n",
      "Non-trainable params: 0\n",
      "_________________________________________________________________\n"
     ]
    }
   ],
   "source": [
    "l0 = Input(shape=(height, width, 1), name='l0')\n",
    "\n",
    "l1 = Conv2D(9, (5, 5), padding='same', activation='relu', name='l1')(l0)\n",
    "l1_mp = MaxPooling2D(pool_size=(2, 2), name='l1_mp')(l1)\n",
    "\n",
    "l2 = Conv2D(9, (5, 5), padding='same', activation='relu', name='l2')(l1_mp)\n",
    "l2_mp = MaxPooling2D(pool_size=(2, 2), name='l2_mp')(l2)\n",
    "\n",
    "l3 = Conv2D(16, (3, 3), padding='same', activation='relu', name='l3')(l2_mp)\n",
    "l3_mp = MaxPooling2D(pool_size=(2, 2), name='l3_mp')(l3)\n",
    "\n",
    "flat = Flatten(name='flat')(l3_mp)\n",
    "\n",
    "l4 = Dense(25, activation='relu', name='l4')(flat)\n",
    "\n",
    "l5 = Dense(n_classes, activation='softmax', name='l5')(l4)\n",
    "\n",
    "model = Model(inputs=l0, outputs=l5)\n",
    "model.summary()"
   ]
  },
  {
   "cell_type": "markdown",
   "metadata": {
    "id": "sP_cugPCbfO6"
   },
   "source": [
    "Define some constants and train de CNN"
   ]
  },
  {
   "cell_type": "code",
   "execution_count": 10,
   "metadata": {
    "colab": {
     "base_uri": "https://localhost:8080/",
     "height": 374
    },
    "id": "l8eKqD80bfPB",
    "outputId": "bb20620f-70c6-4330-8c5f-d67cb5176464"
   },
   "outputs": [
    {
     "name": "stdout",
     "output_type": "stream",
     "text": [
      "Epoch 1/50\n",
      "469/469 [==============================] - 15s 32ms/step - loss: 0.3169 - accuracy: 0.8840 - val_loss: 0.3440 - val_accuracy: 0.8739\n",
      "Epoch 2/50\n",
      "469/469 [==============================] - 15s 32ms/step - loss: 0.3075 - accuracy: 0.8888 - val_loss: 0.3436 - val_accuracy: 0.8718\n",
      "Epoch 3/50\n",
      "469/469 [==============================] - 15s 32ms/step - loss: 0.3006 - accuracy: 0.8913 - val_loss: 0.3455 - val_accuracy: 0.8765\n",
      "Epoch 4/50\n",
      "469/469 [==============================] - 15s 32ms/step - loss: 0.2937 - accuracy: 0.8939 - val_loss: 0.3425 - val_accuracy: 0.8777\n",
      "Epoch 5/50\n",
      "469/469 [==============================] - 15s 32ms/step - loss: 0.2882 - accuracy: 0.8952 - val_loss: 0.3279 - val_accuracy: 0.8834\n",
      "Epoch 6/50\n",
      "469/469 [==============================] - 15s 32ms/step - loss: 0.2818 - accuracy: 0.8967 - val_loss: 0.3185 - val_accuracy: 0.8864\n",
      "Epoch 7/50\n",
      "469/469 [==============================] - 15s 32ms/step - loss: 0.2759 - accuracy: 0.8992 - val_loss: 0.3165 - val_accuracy: 0.8874\n",
      "Epoch 8/50\n",
      "469/469 [==============================] - 15s 32ms/step - loss: 0.2717 - accuracy: 0.9021 - val_loss: 0.3555 - val_accuracy: 0.8684\n",
      "Epoch 9/50\n",
      "469/469 [==============================] - 15s 32ms/step - loss: 0.2679 - accuracy: 0.9019 - val_loss: 0.3123 - val_accuracy: 0.8867\n",
      "Epoch 10/50\n",
      "469/469 [==============================] - 15s 32ms/step - loss: 0.2641 - accuracy: 0.9020 - val_loss: 0.3067 - val_accuracy: 0.8899\n",
      "Epoch 11/50\n",
      "469/469 [==============================] - 15s 32ms/step - loss: 0.2587 - accuracy: 0.9049 - val_loss: 0.3307 - val_accuracy: 0.8860\n",
      "Epoch 12/50\n",
      "469/469 [==============================] - 15s 32ms/step - loss: 0.2557 - accuracy: 0.9061 - val_loss: 0.3115 - val_accuracy: 0.8889\n",
      "Epoch 13/50\n",
      "469/469 [==============================] - 15s 32ms/step - loss: 0.2521 - accuracy: 0.9072 - val_loss: 0.3157 - val_accuracy: 0.8893\n",
      "Epoch 14/50\n",
      "469/469 [==============================] - 15s 32ms/step - loss: 0.2500 - accuracy: 0.9081 - val_loss: 0.3192 - val_accuracy: 0.8894\n",
      "Epoch 15/50\n",
      "469/469 [==============================] - 15s 33ms/step - loss: 0.2461 - accuracy: 0.9096 - val_loss: 0.3227 - val_accuracy: 0.8856\n",
      "Epoch 16/50\n",
      "469/469 [==============================] - 15s 32ms/step - loss: 0.2449 - accuracy: 0.9106 - val_loss: 0.3190 - val_accuracy: 0.8864\n",
      "Epoch 17/50\n",
      "469/469 [==============================] - 16s 33ms/step - loss: 0.2412 - accuracy: 0.9121 - val_loss: 0.2990 - val_accuracy: 0.8937\n",
      "Epoch 18/50\n",
      "469/469 [==============================] - 15s 33ms/step - loss: 0.2380 - accuracy: 0.9124 - val_loss: 0.3078 - val_accuracy: 0.8928\n",
      "Epoch 19/50\n",
      "469/469 [==============================] - 15s 32ms/step - loss: 0.2365 - accuracy: 0.9129 - val_loss: 0.3121 - val_accuracy: 0.8939\n",
      "Epoch 20/50\n",
      "469/469 [==============================] - 15s 33ms/step - loss: 0.2347 - accuracy: 0.9128 - val_loss: 0.3099 - val_accuracy: 0.8916\n",
      "Epoch 21/50\n",
      "469/469 [==============================] - 15s 32ms/step - loss: 0.2315 - accuracy: 0.9147 - val_loss: 0.3014 - val_accuracy: 0.8959\n",
      "Epoch 22/50\n",
      "469/469 [==============================] - 15s 32ms/step - loss: 0.2296 - accuracy: 0.9159 - val_loss: 0.3068 - val_accuracy: 0.8927\n",
      "Epoch 23/50\n",
      "469/469 [==============================] - 15s 33ms/step - loss: 0.2266 - accuracy: 0.9177 - val_loss: 0.3064 - val_accuracy: 0.8940\n",
      "Epoch 24/50\n",
      "469/469 [==============================] - 15s 32ms/step - loss: 0.2254 - accuracy: 0.9175 - val_loss: 0.3034 - val_accuracy: 0.8930\n",
      "Epoch 25/50\n",
      "469/469 [==============================] - 15s 32ms/step - loss: 0.2234 - accuracy: 0.9180 - val_loss: 0.3195 - val_accuracy: 0.8875\n",
      "Epoch 26/50\n",
      "469/469 [==============================] - 15s 32ms/step - loss: 0.2206 - accuracy: 0.9181 - val_loss: 0.3063 - val_accuracy: 0.8938\n",
      "Epoch 27/50\n",
      "469/469 [==============================] - 15s 32ms/step - loss: 0.2198 - accuracy: 0.9189 - val_loss: 0.2999 - val_accuracy: 0.8971\n",
      "Epoch 28/50\n",
      "469/469 [==============================] - 15s 32ms/step - loss: 0.2168 - accuracy: 0.9201 - val_loss: 0.3218 - val_accuracy: 0.8875\n",
      "Epoch 29/50\n",
      "469/469 [==============================] - 15s 32ms/step - loss: 0.2161 - accuracy: 0.9198 - val_loss: 0.3142 - val_accuracy: 0.8932\n",
      "Epoch 30/50\n",
      "469/469 [==============================] - 15s 32ms/step - loss: 0.2134 - accuracy: 0.9219 - val_loss: 0.3236 - val_accuracy: 0.8949\n",
      "Epoch 31/50\n",
      "469/469 [==============================] - 15s 32ms/step - loss: 0.2123 - accuracy: 0.9218 - val_loss: 0.3196 - val_accuracy: 0.8931\n",
      "Epoch 32/50\n",
      "469/469 [==============================] - 15s 32ms/step - loss: 0.2111 - accuracy: 0.9222 - val_loss: 0.3049 - val_accuracy: 0.8965\n",
      "Epoch 33/50\n",
      "469/469 [==============================] - 15s 32ms/step - loss: 0.2086 - accuracy: 0.9225 - val_loss: 0.3128 - val_accuracy: 0.8911\n",
      "Epoch 34/50\n",
      "469/469 [==============================] - 15s 32ms/step - loss: 0.2075 - accuracy: 0.9229 - val_loss: 0.3007 - val_accuracy: 0.8962\n",
      "Epoch 35/50\n",
      "469/469 [==============================] - 15s 32ms/step - loss: 0.2062 - accuracy: 0.9241 - val_loss: 0.3128 - val_accuracy: 0.8965\n",
      "Epoch 36/50\n",
      "469/469 [==============================] - 15s 32ms/step - loss: 0.2042 - accuracy: 0.9253 - val_loss: 0.3124 - val_accuracy: 0.8908\n",
      "Epoch 37/50\n",
      "469/469 [==============================] - 15s 33ms/step - loss: 0.2028 - accuracy: 0.9244 - val_loss: 0.3019 - val_accuracy: 0.8973\n",
      "Epoch 38/50\n",
      "469/469 [==============================] - 15s 32ms/step - loss: 0.2024 - accuracy: 0.9248 - val_loss: 0.3199 - val_accuracy: 0.8928\n",
      "Epoch 39/50\n",
      "469/469 [==============================] - 15s 32ms/step - loss: 0.2018 - accuracy: 0.9251 - val_loss: 0.2976 - val_accuracy: 0.8961\n",
      "Epoch 40/50\n",
      "469/469 [==============================] - 15s 32ms/step - loss: 0.1990 - accuracy: 0.9258 - val_loss: 0.3165 - val_accuracy: 0.8950\n",
      "Epoch 41/50\n",
      "469/469 [==============================] - 15s 32ms/step - loss: 0.1981 - accuracy: 0.9269 - val_loss: 0.3101 - val_accuracy: 0.8914\n",
      "Epoch 42/50\n",
      "469/469 [==============================] - 15s 32ms/step - loss: 0.1965 - accuracy: 0.9282 - val_loss: 0.3177 - val_accuracy: 0.8970\n",
      "Epoch 43/50\n",
      "469/469 [==============================] - 15s 32ms/step - loss: 0.1953 - accuracy: 0.9283 - val_loss: 0.3109 - val_accuracy: 0.8972\n",
      "Epoch 44/50\n",
      "469/469 [==============================] - 15s 32ms/step - loss: 0.1941 - accuracy: 0.9282 - val_loss: 0.3145 - val_accuracy: 0.8945\n",
      "Epoch 45/50\n",
      "469/469 [==============================] - 15s 32ms/step - loss: 0.1928 - accuracy: 0.9285 - val_loss: 0.3067 - val_accuracy: 0.8958\n",
      "Epoch 46/50\n",
      "469/469 [==============================] - 15s 32ms/step - loss: 0.1929 - accuracy: 0.9287 - val_loss: 0.3177 - val_accuracy: 0.8966\n",
      "Epoch 47/50\n",
      "469/469 [==============================] - 15s 32ms/step - loss: 0.1907 - accuracy: 0.9290 - val_loss: 0.3053 - val_accuracy: 0.9006\n",
      "Epoch 48/50\n",
      "469/469 [==============================] - 15s 32ms/step - loss: 0.1897 - accuracy: 0.9292 - val_loss: 0.3147 - val_accuracy: 0.8959\n",
      "Epoch 49/50\n",
      "469/469 [==============================] - 15s 32ms/step - loss: 0.1894 - accuracy: 0.9297 - val_loss: 0.3212 - val_accuracy: 0.8937\n",
      "Epoch 50/50\n",
      "469/469 [==============================] - 15s 32ms/step - loss: 0.1882 - accuracy: 0.9295 - val_loss: 0.3077 - val_accuracy: 0.8982\n"
     ]
    }
   ],
   "source": [
    "batch_size = 128\n",
    "n_epoch = 50\n",
    "\n",
    "model.compile(loss='categorical_crossentropy', optimizer=RMSprop(), metrics=['accuracy'])\n",
    "history = model.fit(X_train, Y_train, batch_size=batch_size, epochs=n_epoch, verbose=1, validation_data=(X_test, Y_test))"
   ]
  },
  {
   "cell_type": "markdown",
   "metadata": {
    "id": "IBX2Tc_0bfPK"
   },
   "source": [
    "Show the performance of the model"
   ]
  },
  {
   "cell_type": "code",
   "execution_count": 11,
   "metadata": {
    "colab": {
     "base_uri": "https://localhost:8080/",
     "height": 299
    },
    "id": "WeaMjl-EbfPS",
    "outputId": "e219b778-8eb2-4fd9-a2f5-baaa3d936a3f"
   },
   "outputs": [
    {
     "name": "stdout",
     "output_type": "stream",
     "text": [
      "Test score: 0.30765479803085327\n",
      "Test accuracy: 0.8981999754905701\n"
     ]
    },
    {
     "data": {
      "image/png": "[encoded data removed]",
      "text/plain": [
       "<Figure size 432x288 with 1 Axes>"
      ]
     },
     "metadata": {
      "needs_background": "light"
     },
     "output_type": "display_data"
    }
   ],
   "source": [
    "pl.plot(history.history['loss'], label='Training')\n",
    "pl.plot(history.history['val_loss'], label='Testing')\n",
    "pl.legend()\n",
    "pl.grid()\n",
    "\n",
    "score = model.evaluate(X_test, Y_test, verbose=0)\n",
    "print('Test score:', score[0])\n",
    "print('Test accuracy:', score[1])"
   ]
  },
  {
   "cell_type": "markdown",
   "metadata": {
    "id": "rXNZ2ZHSbfPm"
   },
   "source": [
    "Confusion matrix"
   ]
  },
  {
   "cell_type": "code",
   "execution_count": 12,
   "metadata": {},
   "outputs": [],
   "source": [
    "def plot_confusion_matrix(conf_matrix, classes_names = ['0', '1', '2', '3', '4', '5', '6', '7', '8', '9']):\n",
    "    fig, ax = pl.subplots()\n",
    "    im = ax.imshow(conf_matrix, cmap=\"viridis\")\n",
    "\n",
    "    # Show all ticks and label them with the respective list entries\n",
    "    ax.set_xticks(np.arange(len(classes_names)), labels=classes_names)\n",
    "    ax.set_yticks(np.arange(len(classes_names)), labels=classes_names)\n",
    "\n",
    "    # Rotate the tick labels and set their alignment.\n",
    "    pl.setp(ax.get_xticklabels(), rotation=45, ha=\"right\", rotation_mode=\"anchor\")\n",
    "\n",
    "    # Loop over data dimensions and create text annotations.\n",
    "    for i in range(len(classes_names)):\n",
    "        for j in range(len(classes_names)):\n",
    "            text = ax.text(j, i, conf_matrix[i, j], fontweight=\"normal\", fontsize=\"small\", ha=\"center\", va=\"center\", c=\"r\")\n",
    "\n",
    "    fig.tight_layout()\n",
    "    pl.show()"
   ]
  },
  {
   "cell_type": "code",
   "execution_count": 13,
   "metadata": {
    "colab": {
     "base_uri": "https://localhost:8080/",
     "height": 187
    },
    "id": "XfgRipFebfPm",
    "outputId": "b435b340-a409-423f-bd5a-d989f6f76a8a"
   },
   "outputs": [
    {
     "data": {
      "image/png": "[encoded data removed]",
      "text/plain": [
       "<Figure size 432x288 with 1 Axes>"
      ]
     },
     "metadata": {
      "needs_background": "light"
     },
     "output_type": "display_data"
    }
   ],
   "source": [
    "pred = model.predict_on_batch(X_test)\n",
    "pred = np.argmax(pred, axis=-1)\n",
    "conf_mat = me.confusion_matrix(y_test, pred)\n",
    "\n",
    "plot_confusion_matrix(conf_mat)"
   ]
  }
 ],
 "metadata": {
  "accelerator": "GPU",
  "colab": {
   "collapsed_sections": [],
   "name": "CNN.ipynb",
   "provenance": []
  },
  "kernelspec": {
   "display_name": "Python 3 (ipykernel)",
   "language": "python",
   "name": "python3"
  },
  "language_info": {
   "codemirror_mode": {
    "name": "ipython",
    "version": 3
   },
   "file_extension": ".py",
   "mimetype": "text/x-python",
   "name": "python",
   "nbconvert_exporter": "python",
   "pygments_lexer": "ipython3",
   "version": "3.9.7"
  }
 },
 "nbformat": 4,
 "nbformat_minor": 1
}
