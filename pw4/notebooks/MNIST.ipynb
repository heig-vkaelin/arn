{
 "cells": [
  {
   "cell_type": "markdown",
   "metadata": {
    "id": "HkLUJVa1bfNW"
   },
   "source": [
    "# Convolutional Neural Networks\n",
    "This notebook will guide you through the use of the `keras` package to train convolutional neural networks for handwritten digits classification. You are going to use the `mnist` dataset from LeCun et al. 1998."
   ]
  },
  {
   "cell_type": "markdown",
   "metadata": {
    "id": "SjQUQygFbfNb"
   },
   "source": [
    "## Loading the packages"
   ]
  },
  {
   "cell_type": "code",
   "execution_count": 19,
   "metadata": {
    "id": "h7O8MewabfNj"
   },
   "outputs": [
    {
     "name": "stdout",
     "output_type": "stream",
     "text": [
      "Requirement already satisfied: tensorflow in c:\\users\\jonathan\\miniconda3\\envs\\arn\\lib\\site-packages (2.8.0)\n",
      "Requirement already satisfied: typing-extensions>=3.6.6 in c:\\users\\jonathan\\miniconda3\\envs\\arn\\lib\\site-packages (from tensorflow) (3.10.0.2)\n",
      "Requirement already satisfied: tensorboard<2.9,>=2.8 in c:\\users\\jonathan\\miniconda3\\envs\\arn\\lib\\site-packages (from tensorflow) (2.8.0)\n",
      "Requirement already satisfied: numpy>=1.20 in c:\\users\\jonathan\\miniconda3\\envs\\arn\\lib\\site-packages (from tensorflow) (1.22.2)\n",
      "Requirement already satisfied: google-pasta>=0.1.1 in c:\\users\\jonathan\\miniconda3\\envs\\arn\\lib\\site-packages (from tensorflow) (0.2.0)\n",
      "Requirement already satisfied: flatbuffers>=1.12 in c:\\users\\jonathan\\miniconda3\\envs\\arn\\lib\\site-packages (from tensorflow) (2.0)\n",
      "Requirement already satisfied: protobuf>=3.9.2 in c:\\users\\jonathan\\miniconda3\\envs\\arn\\lib\\site-packages (from tensorflow) (3.20.0)\n",
      "Requirement already satisfied: wrapt>=1.11.0 in c:\\users\\jonathan\\miniconda3\\envs\\arn\\lib\\site-packages (from tensorflow) (1.14.0)\n",
      "Requirement already satisfied: libclang>=9.0.1 in c:\\users\\jonathan\\miniconda3\\envs\\arn\\lib\\site-packages (from tensorflow) (13.0.0)\n",
      "Requirement already satisfied: keras-preprocessing>=1.1.1 in c:\\users\\jonathan\\miniconda3\\envs\\arn\\lib\\site-packages (from tensorflow) (1.1.2)Note: you may need to restart the kernel to use updated packages.\n",
      "\n",
      "Requirement already satisfied: termcolor>=1.1.0 in c:\\users\\jonathan\\miniconda3\\envs\\arn\\lib\\site-packages (from tensorflow) (1.1.0)\n",
      "Requirement already satisfied: h5py>=2.9.0 in c:\\users\\jonathan\\miniconda3\\envs\\arn\\lib\\site-packages (from tensorflow) (3.6.0)\n",
      "Requirement already satisfied: six>=1.12.0 in c:\\users\\jonathan\\miniconda3\\envs\\arn\\lib\\site-packages (from tensorflow) (1.16.0)\n",
      "Requirement already satisfied: absl-py>=0.4.0 in c:\\users\\jonathan\\miniconda3\\envs\\arn\\lib\\site-packages (from tensorflow) (1.0.0)\n",
      "Requirement already satisfied: grpcio<2.0,>=1.24.3 in c:\\users\\jonathan\\miniconda3\\envs\\arn\\lib\\site-packages (from tensorflow) (1.44.0)\n",
      "Requirement already satisfied: gast>=0.2.1 in c:\\users\\jonathan\\miniconda3\\envs\\arn\\lib\\site-packages (from tensorflow) (0.5.3)\n",
      "Requirement already satisfied: setuptools in c:\\users\\jonathan\\miniconda3\\envs\\arn\\lib\\site-packages (from tensorflow) (58.0.4)\n",
      "Requirement already satisfied: keras<2.9,>=2.8.0rc0 in c:\\users\\jonathan\\miniconda3\\envs\\arn\\lib\\site-packages (from tensorflow) (2.8.0)\n",
      "Requirement already satisfied: tensorflow-io-gcs-filesystem>=0.23.1 in c:\\users\\jonathan\\miniconda3\\envs\\arn\\lib\\site-packages (from tensorflow) (0.24.0)\n",
      "Requirement already satisfied: tf-estimator-nightly==2.8.0.dev2021122109 in c:\\users\\jonathan\\miniconda3\\envs\\arn\\lib\\site-packages (from tensorflow) (2.8.0.dev2021122109)\n",
      "Requirement already satisfied: astunparse>=1.6.0 in c:\\users\\jonathan\\miniconda3\\envs\\arn\\lib\\site-packages (from tensorflow) (1.6.3)\n",
      "Requirement already satisfied: opt-einsum>=2.3.2 in c:\\users\\jonathan\\miniconda3\\envs\\arn\\lib\\site-packages (from tensorflow) (3.3.0)\n",
      "Requirement already satisfied: wheel<1.0,>=0.23.0 in c:\\users\\jonathan\\miniconda3\\envs\\arn\\lib\\site-packages (from astunparse>=1.6.0->tensorflow) (0.37.1)\n",
      "Requirement already satisfied: tensorboard-data-server<0.7.0,>=0.6.0 in c:\\users\\jonathan\\miniconda3\\envs\\arn\\lib\\site-packages (from tensorboard<2.9,>=2.8->tensorflow) (0.6.1)\n",
      "Requirement already satisfied: tensorboard-plugin-wit>=1.6.0 in c:\\users\\jonathan\\miniconda3\\envs\\arn\\lib\\site-packages (from tensorboard<2.9,>=2.8->tensorflow) (1.8.1)\n",
      "Requirement already satisfied: requests<3,>=2.21.0 in c:\\users\\jonathan\\miniconda3\\envs\\arn\\lib\\site-packages (from tensorboard<2.9,>=2.8->tensorflow) (2.27.1)\n",
      "Requirement already satisfied: google-auth-oauthlib<0.5,>=0.4.1 in c:\\users\\jonathan\\miniconda3\\envs\\arn\\lib\\site-packages (from tensorboard<2.9,>=2.8->tensorflow) (0.4.6)\n",
      "Requirement already satisfied: google-auth<3,>=1.6.3 in c:\\users\\jonathan\\miniconda3\\envs\\arn\\lib\\site-packages (from tensorboard<2.9,>=2.8->tensorflow) (2.6.4)\n",
      "Requirement already satisfied: markdown>=2.6.8 in c:\\users\\jonathan\\miniconda3\\envs\\arn\\lib\\site-packages (from tensorboard<2.9,>=2.8->tensorflow) (3.3.6)\n",
      "Requirement already satisfied: werkzeug>=0.11.15 in c:\\users\\jonathan\\miniconda3\\envs\\arn\\lib\\site-packages (from tensorboard<2.9,>=2.8->tensorflow) (2.1.1)\n",
      "Requirement already satisfied: pyasn1-modules>=0.2.1 in c:\\users\\jonathan\\miniconda3\\envs\\arn\\lib\\site-packages (from google-auth<3,>=1.6.3->tensorboard<2.9,>=2.8->tensorflow) (0.2.8)\n",
      "Requirement already satisfied: rsa<5,>=3.1.4 in c:\\users\\jonathan\\miniconda3\\envs\\arn\\lib\\site-packages (from google-auth<3,>=1.6.3->tensorboard<2.9,>=2.8->tensorflow) (4.8)\n",
      "Requirement already satisfied: cachetools<6.0,>=2.0.0 in c:\\users\\jonathan\\miniconda3\\envs\\arn\\lib\\site-packages (from google-auth<3,>=1.6.3->tensorboard<2.9,>=2.8->tensorflow) (5.0.0)\n",
      "Requirement already satisfied: requests-oauthlib>=0.7.0 in c:\\users\\jonathan\\miniconda3\\envs\\arn\\lib\\site-packages (from google-auth-oauthlib<0.5,>=0.4.1->tensorboard<2.9,>=2.8->tensorflow) (1.3.1)\n",
      "Requirement already satisfied: importlib-metadata>=4.4 in c:\\users\\jonathan\\miniconda3\\envs\\arn\\lib\\site-packages (from markdown>=2.6.8->tensorboard<2.9,>=2.8->tensorflow) (4.8.2)\n",
      "Requirement already satisfied: zipp>=0.5 in c:\\users\\jonathan\\miniconda3\\envs\\arn\\lib\\site-packages (from importlib-metadata>=4.4->markdown>=2.6.8->tensorboard<2.9,>=2.8->tensorflow) (3.7.0)\n",
      "Requirement already satisfied: pyasn1<0.5.0,>=0.4.6 in c:\\users\\jonathan\\miniconda3\\envs\\arn\\lib\\site-packages (from pyasn1-modules>=0.2.1->google-auth<3,>=1.6.3->tensorboard<2.9,>=2.8->tensorflow) (0.4.8)\n",
      "Requirement already satisfied: charset-normalizer~=2.0.0 in c:\\users\\jonathan\\miniconda3\\envs\\arn\\lib\\site-packages (from requests<3,>=2.21.0->tensorboard<2.9,>=2.8->tensorflow) (2.0.12)\n",
      "Requirement already satisfied: idna<4,>=2.5 in c:\\users\\jonathan\\miniconda3\\envs\\arn\\lib\\site-packages (from requests<3,>=2.21.0->tensorboard<2.9,>=2.8->tensorflow) (3.3)\n",
      "Requirement already satisfied: certifi>=2017.4.17 in c:\\users\\jonathan\\miniconda3\\envs\\arn\\lib\\site-packages (from requests<3,>=2.21.0->tensorboard<2.9,>=2.8->tensorflow) (2021.10.8)\n",
      "Requirement already satisfied: urllib3<1.27,>=1.21.1 in c:\\users\\jonathan\\miniconda3\\envs\\arn\\lib\\site-packages (from requests<3,>=2.21.0->tensorboard<2.9,>=2.8->tensorflow) (1.26.9)\n",
      "Requirement already satisfied: oauthlib>=3.0.0 in c:\\users\\jonathan\\miniconda3\\envs\\arn\\lib\\site-packages (from requests-oauthlib>=0.7.0->google-auth-oauthlib<0.5,>=0.4.1->tensorboard<2.9,>=2.8->tensorflow) (3.2.0)\n",
      "Requirement already satisfied: keras in c:\\users\\jonathan\\miniconda3\\envs\\arn\\lib\\site-packages (2.8.0)\n",
      "Note: you may need to restart the kernel to use updated packages.\n"
     ]
    }
   ],
   "source": [
    "%pip install tensorflow --upgrade\n",
    "%pip install keras --upgrade\n",
    "\n",
    "import numpy as np\n",
    "from matplotlib import pyplot as pl\n",
    "\n",
    "from keras.datasets import mnist, fashion_mnist\n",
    "from keras.models import Model\n",
    "from keras.layers.core import Dense, Dropout, Flatten\n",
    "from tensorflow.keras.optimizers import RMSprop\n",
    "from keras.utils import np_utils\n",
    "from keras.layers.convolutional import Conv2D, MaxPooling2D\n",
    "from keras.layers import Input\n",
    "from sklearn import metrics as me\n",
    "from scipy import stats\n",
    "\n",
    "%matplotlib inline"
   ]
  },
  {
   "cell_type": "markdown",
   "metadata": {
    "id": "vbttXt8SbfOH"
   },
   "source": [
    "First, create some useful functions"
   ]
  },
  {
   "cell_type": "code",
   "execution_count": 20,
   "metadata": {
    "id": "jAR9jPgybfOO"
   },
   "outputs": [],
   "source": [
    "def build_grid_of_images(array):\n",
    "    assert len(array.shape) == 3\n",
    "    dim_0 = np.sqrt(array.shape[0])\n",
    "    assert dim_0.is_integer()\n",
    "    \n",
    "    temp_out = np.reshape(array, (dim_0, dim_0, array.shape[1], array.shape[2]))\n",
    "    temp_out = np.rollaxis(temp_out, 1, 3)\n",
    "    return np.reshape(temp_out, (dim_0*array.shape[1], dim_0*array.shape[2]))\n",
    "\n",
    "def plot_conv_layer_output(temp_out, title):\n",
    "    temp_to_plot = build_grid_of_images(temp_out)\n",
    "    pl.imshow(temp_to_plot, interpolation='nearest', cmap=pl.get_cmap('Greys'))\n",
    "    ax = pl.gca()\n",
    "    ax.set_xticks(np.arange(-0.5, temp_to_plot.shape[0]+0.5, temp_out.shape[1]))    \n",
    "    ax.set_yticks(np.arange(-0.5, temp_to_plot.shape[0]+0.5, temp_out.shape[2]))\n",
    "    pl.grid()\n",
    "    pl.tick_params(axis='both', which='both', bottom='off', top='off', left='off', right='off', labelbottom='off', labelleft='off')\n",
    "    pl.title(title)\n",
    "\n",
    "def plot_dense_layer_output(temp_out, title):\n",
    "    pl.bar(np.arange(temp_out.shape[1])-0.4, temp_out[0,:])\n",
    "    pl.xlim(-0.5, temp_out.shape[1])\n",
    "    pl.grid()\n",
    "    pl.title(title)"
   ]
  },
  {
   "cell_type": "markdown",
   "metadata": {
    "id": "3fVOW4jGbfOb"
   },
   "source": [
    "Load the `fashion_mnist` dataset and normalize in the range [0, 1]"
   ]
  },
  {
   "cell_type": "code",
   "execution_count": 21,
   "metadata": {
    "colab": {
     "base_uri": "https://localhost:8080/",
     "height": 85
    },
    "id": "2H2K3S4MbfOf",
    "outputId": "87306b90-6068-49ae-d1c2-5d5ea69927e2"
   },
   "outputs": [
    {
     "name": "stdout",
     "output_type": "stream",
     "text": [
      "60000 train samples\n",
      "10000 test samples\n"
     ]
    }
   ],
   "source": [
    "# (X_train, y_train), (X_test, y_test) = mnist.load_data()\n",
    "(X_train, y_train), (X_test, y_test) = fashion_mnist.load_data()\n",
    "\n",
    "n_train, height, width = X_train.shape\n",
    "n_test, _, _ = X_test.shape\n",
    "\n",
    "X_train = X_train.reshape(n_train, height, width, 1).astype('float32')\n",
    "X_test = X_test.reshape(n_test, height, width, 1).astype('float32')\n",
    "\n",
    "X_train /= 255.0\n",
    "X_test /= 255.0\n",
    "\n",
    "n_classes = 10\n",
    "\n",
    "print(n_train, 'train samples')\n",
    "print(n_test, 'test samples')\n",
    "\n",
    "# convert class vectors to binary class matrices\n",
    "Y_train = np_utils.to_categorical(y_train, n_classes)\n",
    "Y_test = np_utils.to_categorical(y_test, n_classes)"
   ]
  },
  {
   "cell_type": "markdown",
   "metadata": {
    "id": "2B-WNiQUbfOq"
   },
   "source": [
    "Create the MNIST and show its architecture"
   ]
  },
  {
   "cell_type": "code",
   "execution_count": 22,
   "metadata": {
    "colab": {
     "base_uri": "https://localhost:8080/",
     "height": 493
    },
    "id": "yhOscSNPbfOt",
    "outputId": "6e1a0da0-e48f-4fd1-eb5c-dadacdad548a"
   },
   "outputs": [
    {
     "name": "stdout",
     "output_type": "stream",
     "text": [
      "Model: \"model\"\n",
      "_________________________________________________________________\n",
      " Layer (type)                Output Shape              Param #   \n",
      "=================================================================\n",
      " l0 (InputLayer)             [(None, 28, 28, 1)]       0         \n",
      "                                                                 \n",
      " l1 (Conv2D)                 (None, 28, 28, 9)         234       \n",
      "                                                                 \n",
      " l1_mp (MaxPooling2D)        (None, 14, 14, 9)         0         \n",
      "                                                                 \n",
      " l2 (Conv2D)                 (None, 14, 14, 9)         2034      \n",
      "                                                                 \n",
      " l2_mp (MaxPooling2D)        (None, 7, 7, 9)           0         \n",
      "                                                                 \n",
      " l3 (Conv2D)                 (None, 7, 7, 16)          1312      \n",
      "                                                                 \n",
      " l3_mp (MaxPooling2D)        (None, 3, 3, 16)          0         \n",
      "                                                                 \n",
      " flat (Flatten)              (None, 144)               0         \n",
      "                                                                 \n",
      " l4 (Dense)                  (None, 10)                1450      \n",
      "                                                                 \n",
      " l5 (Dense)                  (None, 10)                110       \n",
      "                                                                 \n",
      "=================================================================\n",
      "Total params: 5,140\n",
      "Trainable params: 5,140\n",
      "Non-trainable params: 0\n",
      "_________________________________________________________________\n"
     ]
    }
   ],
   "source": [
    "l0 = Input(shape=(height, width, 1), name='l0')\n",
    "\n",
    "l1 = Conv2D(9, (5, 5), padding='same', activation='relu', name='l1')(l0)\n",
    "l1_mp = MaxPooling2D(pool_size=(2, 2), name='l1_mp')(l1)\n",
    "\n",
    "l2 = Conv2D(9, (5, 5), padding='same', activation='relu', name='l2')(l1_mp)\n",
    "l2_mp = MaxPooling2D(pool_size=(2, 2), name='l2_mp')(l2)\n",
    "\n",
    "l3 = Conv2D(16, (3, 3), padding='same', activation='relu', name='l3')(l2_mp)\n",
    "l3_mp = MaxPooling2D(pool_size=(2, 2), name='l3_mp')(l3)\n",
    "\n",
    "flat = Flatten(name='flat')(l3_mp)\n",
    "\n",
    "l4 = Dense(10, activation='relu', name='l4')(flat)\n",
    "\n",
    "l5 = Dense(n_classes, activation='softmax', name='l5')(l4)\n",
    "\n",
    "model = Model(inputs=l0, outputs=l5)\n",
    "model.summary()"
   ]
  },
  {
   "cell_type": "markdown",
   "metadata": {
    "id": "sP_cugPCbfO6"
   },
   "source": [
    "Define some constants and train de CNN"
   ]
  },
  {
   "cell_type": "code",
   "execution_count": 23,
   "metadata": {
    "colab": {
     "base_uri": "https://localhost:8080/",
     "height": 374
    },
    "id": "l8eKqD80bfPB",
    "outputId": "bb20620f-70c6-4330-8c5f-d67cb5176464"
   },
   "outputs": [
    {
     "name": "stdout",
     "output_type": "stream",
     "text": [
      "Epoch 1/50\n",
      "469/469 [==============================] - 14s 29ms/step - loss: 0.9175 - accuracy: 0.6727 - val_loss: 0.6681 - val_accuracy: 0.7608\n",
      "Epoch 2/50\n",
      "469/469 [==============================] - 13s 28ms/step - loss: 0.5943 - accuracy: 0.7882 - val_loss: 0.5482 - val_accuracy: 0.8078\n",
      "Epoch 3/50\n",
      "469/469 [==============================] - 13s 29ms/step - loss: 0.5028 - accuracy: 0.8210 - val_loss: 0.5241 - val_accuracy: 0.8128\n",
      "Epoch 4/50\n",
      "469/469 [==============================] - 13s 29ms/step - loss: 0.4500 - accuracy: 0.8425 - val_loss: 0.4757 - val_accuracy: 0.8260\n",
      "Epoch 5/50\n",
      "469/469 [==============================] - 13s 29ms/step - loss: 0.4158 - accuracy: 0.8526 - val_loss: 0.4453 - val_accuracy: 0.8448\n",
      "Epoch 6/50\n",
      "469/469 [==============================] - 13s 29ms/step - loss: 0.3924 - accuracy: 0.8609 - val_loss: 0.4088 - val_accuracy: 0.8510\n",
      "Epoch 7/50\n",
      "469/469 [==============================] - 14s 29ms/step - loss: 0.3718 - accuracy: 0.8679 - val_loss: 0.3861 - val_accuracy: 0.8604\n",
      "Epoch 8/50\n",
      "469/469 [==============================] - 13s 29ms/step - loss: 0.3567 - accuracy: 0.8737 - val_loss: 0.4004 - val_accuracy: 0.8519\n",
      "Epoch 9/50\n",
      "469/469 [==============================] - 14s 29ms/step - loss: 0.3444 - accuracy: 0.8758 - val_loss: 0.4017 - val_accuracy: 0.8573\n",
      "Epoch 10/50\n",
      "469/469 [==============================] - 13s 29ms/step - loss: 0.3331 - accuracy: 0.8805 - val_loss: 0.3751 - val_accuracy: 0.8658\n",
      "Epoch 11/50\n",
      "469/469 [==============================] - 14s 29ms/step - loss: 0.3255 - accuracy: 0.8839 - val_loss: 0.3539 - val_accuracy: 0.8771\n",
      "Epoch 12/50\n",
      "469/469 [==============================] - 14s 29ms/step - loss: 0.3170 - accuracy: 0.8863 - val_loss: 0.3405 - val_accuracy: 0.8792\n",
      "Epoch 13/50\n",
      "469/469 [==============================] - 14s 29ms/step - loss: 0.3092 - accuracy: 0.8893 - val_loss: 0.3417 - val_accuracy: 0.8766\n",
      "Epoch 14/50\n",
      "469/469 [==============================] - 14s 29ms/step - loss: 0.3026 - accuracy: 0.8906 - val_loss: 0.3369 - val_accuracy: 0.8818\n",
      "Epoch 15/50\n",
      "469/469 [==============================] - 13s 29ms/step - loss: 0.2974 - accuracy: 0.8925 - val_loss: 0.3360 - val_accuracy: 0.8816\n",
      "Epoch 16/50\n",
      "469/469 [==============================] - 14s 29ms/step - loss: 0.2910 - accuracy: 0.8953 - val_loss: 0.3294 - val_accuracy: 0.8833\n",
      "Epoch 17/50\n",
      "469/469 [==============================] - 13s 29ms/step - loss: 0.2871 - accuracy: 0.8967 - val_loss: 0.3377 - val_accuracy: 0.8788\n",
      "Epoch 18/50\n",
      "469/469 [==============================] - 14s 29ms/step - loss: 0.2827 - accuracy: 0.8976 - val_loss: 0.3306 - val_accuracy: 0.8816\n",
      "Epoch 19/50\n",
      "469/469 [==============================] - 14s 29ms/step - loss: 0.2791 - accuracy: 0.8997 - val_loss: 0.3341 - val_accuracy: 0.8798\n",
      "Epoch 20/50\n",
      "469/469 [==============================] - 14s 29ms/step - loss: 0.2740 - accuracy: 0.9020 - val_loss: 0.3173 - val_accuracy: 0.8873\n",
      "Epoch 21/50\n",
      "469/469 [==============================] - 14s 29ms/step - loss: 0.2723 - accuracy: 0.9022 - val_loss: 0.3099 - val_accuracy: 0.8868\n",
      "Epoch 22/50\n",
      "469/469 [==============================] - 14s 29ms/step - loss: 0.2678 - accuracy: 0.9040 - val_loss: 0.3184 - val_accuracy: 0.8849\n",
      "Epoch 23/50\n",
      "469/469 [==============================] - 14s 29ms/step - loss: 0.2652 - accuracy: 0.9036 - val_loss: 0.3160 - val_accuracy: 0.8880\n",
      "Epoch 24/50\n",
      "469/469 [==============================] - 14s 29ms/step - loss: 0.2619 - accuracy: 0.9051 - val_loss: 0.3200 - val_accuracy: 0.8855\n",
      "Epoch 25/50\n",
      "469/469 [==============================] - 14s 29ms/step - loss: 0.2602 - accuracy: 0.9061 - val_loss: 0.3152 - val_accuracy: 0.8892\n",
      "Epoch 26/50\n",
      "469/469 [==============================] - 14s 29ms/step - loss: 0.2573 - accuracy: 0.9067 - val_loss: 0.3233 - val_accuracy: 0.8832\n",
      "Epoch 27/50\n",
      "469/469 [==============================] - 14s 29ms/step - loss: 0.2544 - accuracy: 0.9082 - val_loss: 0.3074 - val_accuracy: 0.8880\n",
      "Epoch 28/50\n",
      "469/469 [==============================] - 14s 29ms/step - loss: 0.2518 - accuracy: 0.9090 - val_loss: 0.3084 - val_accuracy: 0.8896\n",
      "Epoch 29/50\n",
      "469/469 [==============================] - 14s 29ms/step - loss: 0.2506 - accuracy: 0.9088 - val_loss: 0.3159 - val_accuracy: 0.8874\n",
      "Epoch 30/50\n",
      "469/469 [==============================] - 14s 29ms/step - loss: 0.2483 - accuracy: 0.9098 - val_loss: 0.3022 - val_accuracy: 0.8913\n",
      "Epoch 31/50\n",
      "469/469 [==============================] - 14s 29ms/step - loss: 0.2454 - accuracy: 0.9113 - val_loss: 0.3143 - val_accuracy: 0.8860\n",
      "Epoch 32/50\n",
      "469/469 [==============================] - 14s 29ms/step - loss: 0.2437 - accuracy: 0.9115 - val_loss: 0.3141 - val_accuracy: 0.8879\n",
      "Epoch 33/50\n",
      "469/469 [==============================] - 14s 29ms/step - loss: 0.2415 - accuracy: 0.9111 - val_loss: 0.3103 - val_accuracy: 0.8890\n",
      "Epoch 34/50\n",
      "469/469 [==============================] - 14s 29ms/step - loss: 0.2400 - accuracy: 0.9119 - val_loss: 0.3035 - val_accuracy: 0.8923\n",
      "Epoch 35/50\n",
      "469/469 [==============================] - 14s 29ms/step - loss: 0.2379 - accuracy: 0.9133 - val_loss: 0.3049 - val_accuracy: 0.8898\n",
      "Epoch 36/50\n",
      "469/469 [==============================] - 14s 29ms/step - loss: 0.2370 - accuracy: 0.9132 - val_loss: 0.3016 - val_accuracy: 0.8902\n",
      "Epoch 37/50\n",
      "469/469 [==============================] - 14s 29ms/step - loss: 0.2354 - accuracy: 0.9133 - val_loss: 0.3126 - val_accuracy: 0.8900\n",
      "Epoch 38/50\n",
      "469/469 [==============================] - 14s 29ms/step - loss: 0.2341 - accuracy: 0.9141 - val_loss: 0.3071 - val_accuracy: 0.8875\n",
      "Epoch 39/50\n",
      "469/469 [==============================] - 15s 31ms/step - loss: 0.2331 - accuracy: 0.9146 - val_loss: 0.3107 - val_accuracy: 0.8873\n",
      "Epoch 40/50\n",
      "469/469 [==============================] - 14s 30ms/step - loss: 0.2307 - accuracy: 0.9153 - val_loss: 0.3032 - val_accuracy: 0.8922\n",
      "Epoch 41/50\n",
      "469/469 [==============================] - 14s 30ms/step - loss: 0.2297 - accuracy: 0.9158 - val_loss: 0.3162 - val_accuracy: 0.8938\n",
      "Epoch 42/50\n",
      "469/469 [==============================] - 14s 29ms/step - loss: 0.2290 - accuracy: 0.9167 - val_loss: 0.3036 - val_accuracy: 0.8919\n",
      "Epoch 43/50\n",
      "469/469 [==============================] - 14s 29ms/step - loss: 0.2272 - accuracy: 0.9169 - val_loss: 0.3373 - val_accuracy: 0.8820\n",
      "Epoch 44/50\n",
      "469/469 [==============================] - 14s 29ms/step - loss: 0.2262 - accuracy: 0.9172 - val_loss: 0.3042 - val_accuracy: 0.8935\n",
      "Epoch 45/50\n",
      "469/469 [==============================] - 14s 29ms/step - loss: 0.2250 - accuracy: 0.9173 - val_loss: 0.3291 - val_accuracy: 0.8836\n",
      "Epoch 46/50\n",
      "469/469 [==============================] - 14s 29ms/step - loss: 0.2234 - accuracy: 0.9171 - val_loss: 0.3188 - val_accuracy: 0.8857\n",
      "Epoch 47/50\n",
      "469/469 [==============================] - 14s 29ms/step - loss: 0.2228 - accuracy: 0.9181 - val_loss: 0.3069 - val_accuracy: 0.8931\n",
      "Epoch 48/50\n",
      "469/469 [==============================] - 14s 29ms/step - loss: 0.2212 - accuracy: 0.9184 - val_loss: 0.3151 - val_accuracy: 0.8903\n",
      "Epoch 49/50\n",
      "469/469 [==============================] - 13s 29ms/step - loss: 0.2216 - accuracy: 0.9186 - val_loss: 0.3198 - val_accuracy: 0.8868\n",
      "Epoch 50/50\n",
      "469/469 [==============================] - 14s 29ms/step - loss: 0.2189 - accuracy: 0.9198 - val_loss: 0.3032 - val_accuracy: 0.8932\n"
     ]
    }
   ],
   "source": [
    "batch_size = 128\n",
    "n_epoch = 50\n",
    "\n",
    "model.compile(loss='categorical_crossentropy', optimizer=RMSprop(), metrics=['accuracy'])\n",
    "history = model.fit(X_train, Y_train, batch_size=batch_size, epochs=n_epoch, verbose=1, validation_data=(X_test, Y_test))"
   ]
  },
  {
   "cell_type": "markdown",
   "metadata": {
    "id": "IBX2Tc_0bfPK"
   },
   "source": [
    "Show the performance of the model"
   ]
  },
  {
   "cell_type": "code",
   "execution_count": 24,
   "metadata": {
    "colab": {
     "base_uri": "https://localhost:8080/",
     "height": 299
    },
    "id": "WeaMjl-EbfPS",
    "outputId": "e219b778-8eb2-4fd9-a2f5-baaa3d936a3f",
    "scrolled": true
   },
   "outputs": [
    {
     "name": "stdout",
     "output_type": "stream",
     "text": [
      "Test score: 0.3031619191169739\n",
      "Test accuracy: 0.8931999802589417\n"
     ]
    },
    {
     "data": {
      "image/png": "[encoded data removed]",
      "text/plain": [
       "<Figure size 432x288 with 1 Axes>"
      ]
     },
     "metadata": {
      "needs_background": "light"
     },
     "output_type": "display_data"
    }
   ],
   "source": [
    "pl.plot(history.history['loss'], label='Training')\n",
    "pl.plot(history.history['val_loss'], label='Testing')\n",
    "pl.legend()\n",
    "pl.grid()\n",
    "\n",
    "score = model.evaluate(X_test, Y_test, verbose=0)\n",
    "print('Test score:', score[0])\n",
    "print('Test accuracy:', score[1])"
   ]
  },
  {
   "cell_type": "markdown",
   "metadata": {
    "id": "rXNZ2ZHSbfPm"
   },
   "source": [
    "Confusion matrix"
   ]
  },
  {
   "cell_type": "code",
   "execution_count": 25,
   "metadata": {},
   "outputs": [],
   "source": [
    "def compute_fscore(matrix, c):\n",
    "    selector = [x for x in range(matrix.shape[1]) if x != c]\n",
    "    tp = matrix[c,c]\n",
    "    fp = np.sum(matrix[selector,c])\n",
    "    fn = np.sum(matrix[c,selector])\n",
    "    precision = tp / (tp + fp)\n",
    "    recall = tp / (tp + fn)\n",
    "    return 2 * precision * recall / (precision + recall)\n",
    "\n",
    "def plot_confusion_matrix(conf_matrix, classes_names = ['0', '1', '2', '3', '4', '5', '6', '7', '8', '9']):\n",
    "    fig, ax = pl.subplots()\n",
    "    im = ax.imshow(conf_matrix, cmap=\"viridis\")\n",
    "\n",
    "    # Show all ticks and label them with the respective list entries\n",
    "    ax.set_xticks(np.arange(len(classes_names)), labels=classes_names)\n",
    "    ax.set_yticks(np.arange(len(classes_names)), labels=classes_names)\n",
    "\n",
    "    # Rotate the tick labels and set their alignment.\n",
    "    pl.setp(ax.get_xticklabels(), rotation=45, ha=\"right\", rotation_mode=\"anchor\")\n",
    "\n",
    "    # Loop over data dimensions and create text annotations.\n",
    "    for i in range(len(classes_names)):\n",
    "        for j in range(len(classes_names)):\n",
    "            text = ax.text(j, i, conf_matrix[i, j], fontweight=\"normal\", fontsize=\"small\", ha=\"center\", va=\"center\", c=\"r\")\n",
    "\n",
    "    fig.tight_layout()\n",
    "    pl.show()\n",
    "    \n",
    "    for i in range(len(classes_names)):\n",
    "        print(f\"F-score {i}: {compute_fscore(conf_matrix, i)}\")"
   ]
  },
  {
   "cell_type": "code",
   "execution_count": 26,
   "metadata": {
    "colab": {
     "base_uri": "https://localhost:8080/",
     "height": 187
    },
    "id": "XfgRipFebfPm",
    "outputId": "b435b340-a409-423f-bd5a-d989f6f76a8a"
   },
   "outputs": [
    {
     "data": {
      "image/png": "[encoded data removed]",
      "text/plain": [
       "<Figure size 432x288 with 1 Axes>"
      ]
     },
     "metadata": {
      "needs_background": "light"
     },
     "output_type": "display_data"
    },
    {
     "name": "stdout",
     "output_type": "stream",
     "text": [
      "F-score 0: 0.8329979879275654\n",
      "F-score 1: 0.9810000000000001\n",
      "F-score 2: 0.8361581920903953\n",
      "F-score 3: 0.8856126080325368\n",
      "F-score 4: 0.8343079922027291\n",
      "F-score 5: 0.9697275479313825\n",
      "F-score 6: 0.7177734375\n",
      "F-score 7: 0.946090335114133\n",
      "F-score 8: 0.9729458917835672\n",
      "F-score 9: 0.9597144314125446\n"
     ]
    }
   ],
   "source": [
    "pred = model.predict_on_batch(X_test)\n",
    "pred = np.argmax(pred, axis=-1)\n",
    "conf_mat = me.confusion_matrix(y_test, pred)\n",
    "\n",
    "plot_confusion_matrix(conf_mat)"
   ]
  }
 ],
 "metadata": {
  "accelerator": "GPU",
  "colab": {
   "collapsed_sections": [],
   "name": "CNN.ipynb",
   "provenance": []
  },
  "kernelspec": {
   "display_name": "Python 3 (ipykernel)",
   "language": "python",
   "name": "python3"
  },
  "language_info": {
   "codemirror_mode": {
    "name": "ipython",
    "version": 3
   },
   "file_extension": ".py",
   "mimetype": "text/x-python",
   "name": "python",
   "nbconvert_exporter": "python",
   "pygments_lexer": "ipython3",
   "version": "3.9.7"
  }
 },
 "nbformat": 4,
 "nbformat_minor": 1
}
